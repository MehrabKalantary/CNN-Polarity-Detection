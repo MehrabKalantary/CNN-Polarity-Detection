{
 "cells": [
  {
   "cell_type": "markdown",
   "id": "b692b3a5",
   "metadata": {
    "pycharm": {
     "name": "#%% md\n"
    }
   },
   "source": [
    "# Polarity Detection using CNN on Movie Review Dataset\n",
    "Increase the data to get a better result\n",
    "\n",
    "[Dataset](https://www.cs.cornell.edu/people/pabo/movie-review-data/)\n",
    "\n",
    "## Contents\n",
    "* Data Cleaning\n",
    "* Data Understanding\n",
    "* Data Preprocessing\n",
    "* Modeling"
   ]
  },
  {
   "cell_type": "code",
   "execution_count": 98,
   "id": "349efe09",
   "metadata": {
    "pycharm": {
     "name": "#%%\n"
    }
   },
   "outputs": [],
   "source": [
    "import os\n",
    "import numpy as np\n",
    "from nltk.corpus import stopwords\n",
    "from nltk import word_tokenize\n",
    "from string import punctuation\n",
    "import random\n",
    "from tensorflow.keras import regularizers\n",
    "from tensorflow.keras.preprocessing.text import Tokenizer\n",
    "from tensorflow.keras.preprocessing.sequence import pad_sequences\n",
    "from tensorflow.keras.utils import plot_model\n",
    "from tensorflow.keras.optimizers import Adam\n",
    "from tensorflow.keras.models import Model\n",
    "from tensorflow.keras.layers import Input, Dense, Flatten, Embedding, Conv1D, MaxPool1D, Dropout, BatchNormalization\n",
    "from tensorflow.keras.layers import concatenate"
   ]
  },
  {
   "cell_type": "markdown",
   "id": "501716a7",
   "metadata": {
    "pycharm": {
     "name": "#%% md\n"
    }
   },
   "source": [
    "### Data Cleaning\n",
    "* Punctuation removal\n",
    "* Stopwords removal\n",
    "* Word tokenization\n",
    "* Train-test split"
   ]
  },
  {
   "cell_type": "code",
   "execution_count": 2,
   "id": "e92fe2d4",
   "metadata": {
    "pycharm": {
     "name": "#%%\n"
    }
   },
   "outputs": [],
   "source": [
    "stop_words = stopwords.words('english')"
   ]
  },
  {
   "cell_type": "code",
   "execution_count": 3,
   "id": "53441bf5",
   "metadata": {
    "pycharm": {
     "name": "#%%\n"
    }
   },
   "outputs": [
    {
     "data": {
      "text/plain": [
       "1000"
      ]
     },
     "execution_count": 3,
     "metadata": {},
     "output_type": "execute_result"
    }
   ],
   "source": [
    "negative_documents = []\n",
    "max_len_negative = 0\n",
    "for file in os.listdir('data/neg'):\n",
    "    with open('data/neg/' + file) as f:\n",
    "        text = f.read()\n",
    "        tokens = word_tokenize(text)\n",
    "        translator = str.maketrans('', '', punctuation)\n",
    "        tokens = [w.translate(translator) for w in tokens]\n",
    "        tokens = [w for w in tokens if not w in stop_words]\n",
    "        if len(tokens) > max_len_negative:\n",
    "            max_len_negative = len(tokens)\n",
    "        negative_documents.append(' '.join(tokens))\n",
    "len(negative_documents)"
   ]
  },
  {
   "cell_type": "code",
   "execution_count": 6,
   "id": "2e065c68",
   "metadata": {
    "pycharm": {
     "name": "#%%\n"
    }
   },
   "outputs": [
    {
     "data": {
      "text/plain": [
       "1000"
      ]
     },
     "execution_count": 6,
     "metadata": {},
     "output_type": "execute_result"
    }
   ],
   "source": [
    "positive_documents = []\n",
    "max_len_positive = 0\n",
    "for file in os.listdir('data/pos'):\n",
    "    with open('data/pos/' + file) as f:\n",
    "        text = f.read()\n",
    "        tokens = word_tokenize(text)\n",
    "        translator = str.maketrans('', '', punctuation)\n",
    "        tokens = [w.translate(translator) for w in tokens]\n",
    "        tokens = [w for w in tokens if not w in stop_words]\n",
    "        if len(tokens) > max_len_positive:\n",
    "            max_len_positive = len(tokens)\n",
    "        positive_documents.append(' '.join(tokens))\n",
    "len(positive_documents)"
   ]
  },
  {
   "cell_type": "code",
   "execution_count": 7,
   "id": "bd3a7a7c",
   "metadata": {
    "pycharm": {
     "name": "#%%\n"
    }
   },
   "outputs": [
    {
     "data": {
      "text/plain": [
       "1693"
      ]
     },
     "execution_count": 7,
     "metadata": {},
     "output_type": "execute_result"
    }
   ],
   "source": [
    "max_len_positive"
   ]
  },
  {
   "cell_type": "code",
   "execution_count": 8,
   "id": "11f19351",
   "metadata": {
    "pycharm": {
     "name": "#%%\n"
    }
   },
   "outputs": [
    {
     "data": {
      "text/plain": [
       "1400"
      ]
     },
     "execution_count": 8,
     "metadata": {},
     "output_type": "execute_result"
    }
   ],
   "source": [
    "max_len_negative"
   ]
  },
  {
   "cell_type": "markdown",
   "id": "e47d8b01",
   "metadata": {
    "pycharm": {
     "name": "#%% md\n"
    }
   },
   "source": [
    "We need maximum number of words for text padding"
   ]
  },
  {
   "cell_type": "code",
   "execution_count": 9,
   "id": "459747f0",
   "metadata": {
    "pycharm": {
     "name": "#%%\n"
    }
   },
   "outputs": [],
   "source": [
    "max_len = max(max_len_negative, max_len_positive)"
   ]
  },
  {
   "cell_type": "markdown",
   "id": "7452a946",
   "metadata": {
    "pycharm": {
     "name": "#%% md\n"
    }
   },
   "source": [
    "So we have 2000 documents belonging to 2 classes\n",
    "\n",
    "Each document is a review and it can be negative or positive\n",
    "\n",
    "Maximum number of words for positive reviews is 1693 and for negative reviews is 1400"
   ]
  },
  {
   "cell_type": "code",
   "execution_count": 10,
   "id": "a13c905b",
   "metadata": {
    "pycharm": {
     "name": "#%%\n"
    }
   },
   "outputs": [],
   "source": [
    "random.shuffle(negative_documents)\n",
    "random.shuffle(positive_documents)"
   ]
  },
  {
   "cell_type": "markdown",
   "id": "527e57cd",
   "metadata": {
    "pycharm": {
     "name": "#%% md\n"
    }
   },
   "source": [
    "We assign 0 for negative reviews and 1 for positive ones"
   ]
  },
  {
   "cell_type": "code",
   "execution_count": 11,
   "id": "1f1228b7",
   "metadata": {
    "pycharm": {
     "name": "#%%\n"
    }
   },
   "outputs": [],
   "source": [
    "X_train = negative_documents[:800] + positive_documents[:800]\n",
    "y_train = [0 for _ in range(800)] + [1 for _ in range(800)]\n",
    "\n",
    "X_test = negative_documents[800:] + positive_documents[800:]\n",
    "y_test = [0 for _ in range(200)] + [1 for _ in range(200)]"
   ]
  },
  {
   "cell_type": "code",
   "execution_count": 13,
   "id": "b3f6683b",
   "metadata": {
    "pycharm": {
     "name": "#%%\n"
    }
   },
   "outputs": [
    {
     "data": {
      "text/plain": [
       "1600"
      ]
     },
     "execution_count": 13,
     "metadata": {},
     "output_type": "execute_result"
    }
   ],
   "source": [
    "len(X_train)"
   ]
  },
  {
   "cell_type": "code",
   "execution_count": 14,
   "id": "49ffb3fb",
   "metadata": {
    "pycharm": {
     "name": "#%%\n"
    }
   },
   "outputs": [
    {
     "data": {
      "text/plain": [
       "400"
      ]
     },
     "execution_count": 14,
     "metadata": {},
     "output_type": "execute_result"
    }
   ],
   "source": [
    "len(X_test)"
   ]
  },
  {
   "cell_type": "code",
   "execution_count": 16,
   "id": "ae66921e",
   "metadata": {
    "pycharm": {
     "name": "#%%\n"
    }
   },
   "outputs": [
    {
     "data": {
      "text/plain": [
       "'sad irony screened fright night part 2 day one stars  roddy mcdowall passed away age 70  mcdowall one talented prolific actors hollywood  career spanned 60 years appearing 100 films  fright night part 2 probably counted among memorable roles  really sad considering good first fright night film  william ragsdale roddy mcdowall reprised roles somewhat reluctant vampire killers seem ones realize vampires walk among us   least movies anyway   several years since charlie brewster  ragsdale  bmovie actor turned late night horror film host  peter vincent  mcdowall  came face face real live vampire happened charlie next door neighbor  charlie peter battle  apparently even vampires relatives get pissed kill members family  apparently charlie former bloodsucking next door neighbor sister none pleased find kid aging actor staked sibling  decides exact little bit revenge  ends forcing charlie peter battle forces darkness yet  one things made fright night success chris sarandon played charlie stylish next door neighbor taste blood  fright night part 2 tries duplicate modern style falls sort  stylish  vamps film nt personality undead first film  exception werewolf adds much needed comic relief scenes  one bright spot  speaking strictly sexist point view  traci lin  plays charlie skeptical girlfriend  really shame career nt better since made film  ragsdale fair job film  nt give nearly performance original  roddy mcdowall makes given  unfortunately nt much shame character lot fun original movie  guess would say first film superior product every way  original always left feeling danger lurking right around corner  part 2 feel music video  never good thing horror film  another minus part 2 traditional scenes leave audience edge seats waiting something jump shadow rare  matter  almost nonexistent  going watch horror film  would far first choice  first fright night  hand  would right near top list  mood roddy mcdowall film probably head science fiction section local video store rent planet apes  either way fright night part 2 would likely enter equation '"
      ]
     },
     "execution_count": 16,
     "metadata": {},
     "output_type": "execute_result"
    }
   ],
   "source": [
    "X_train[0]"
   ]
  },
  {
   "cell_type": "code",
   "execution_count": 17,
   "id": "e89b990d",
   "metadata": {
    "pycharm": {
     "name": "#%%\n"
    }
   },
   "outputs": [
    {
     "data": {
      "text/plain": [
       "0"
      ]
     },
     "execution_count": 17,
     "metadata": {},
     "output_type": "execute_result"
    }
   ],
   "source": [
    "y_train[0]"
   ]
  },
  {
   "cell_type": "markdown",
   "id": "53e4812a",
   "metadata": {
    "pycharm": {
     "name": "#%% md\n"
    }
   },
   "source": [
    "### Data Preprocessing\n",
    "* Tokenizing\n",
    "* Encoding\n",
    "* Text padding"
   ]
  },
  {
   "cell_type": "code",
   "execution_count": 18,
   "id": "e7e8582c",
   "metadata": {
    "pycharm": {
     "name": "#%%\n"
    }
   },
   "outputs": [
    {
     "data": {
      "text/plain": [
       "1693"
      ]
     },
     "execution_count": 18,
     "metadata": {},
     "output_type": "execute_result"
    }
   ],
   "source": [
    "max_len"
   ]
  },
  {
   "cell_type": "code",
   "execution_count": 19,
   "id": "b5e832d6",
   "metadata": {
    "pycharm": {
     "name": "#%%\n"
    }
   },
   "outputs": [],
   "source": [
    "tokenizer = Tokenizer()\n",
    "tokenizer.fit_on_texts(X_train)"
   ]
  },
  {
   "cell_type": "code",
   "execution_count": 20,
   "id": "0014550b",
   "metadata": {
    "pycharm": {
     "name": "#%%\n"
    }
   },
   "outputs": [
    {
     "data": {
      "text/plain": [
       "<keras.preprocessing.text.Tokenizer at 0x1cf7bfe9040>"
      ]
     },
     "execution_count": 20,
     "metadata": {},
     "output_type": "execute_result"
    }
   ],
   "source": [
    "tokenizer"
   ]
  },
  {
   "cell_type": "code",
   "execution_count": 25,
   "id": "77ea1bed",
   "metadata": {
    "scrolled": false,
    "pycharm": {
     "name": "#%%\n"
    }
   },
   "outputs": [
    {
     "data": {
      "text/plain": [
       "40705"
      ]
     },
     "execution_count": 25,
     "metadata": {},
     "output_type": "execute_result"
    }
   ],
   "source": [
    "len(tokenizer.word_index)"
   ]
  },
  {
   "cell_type": "code",
   "execution_count": 53,
   "id": "4e7817b1",
   "metadata": {
    "pycharm": {
     "name": "#%%\n"
    }
   },
   "outputs": [],
   "source": [
    "vocab_len = len(tokenizer.word_index) + 1"
   ]
  },
  {
   "cell_type": "markdown",
   "id": "83bfb1fa",
   "metadata": {
    "pycharm": {
     "name": "#%% md\n"
    }
   },
   "source": [
    "40705 unique words"
   ]
  },
  {
   "cell_type": "code",
   "execution_count": 45,
   "id": "03ba6422",
   "metadata": {
    "pycharm": {
     "name": "#%%\n"
    }
   },
   "outputs": [],
   "source": [
    "encoded = tokenizer.texts_to_sequences(X_train)"
   ]
  },
  {
   "cell_type": "code",
   "execution_count": 47,
   "id": "b7800a68",
   "metadata": {
    "pycharm": {
     "name": "#%%\n"
    }
   },
   "outputs": [
    {
     "data": {
      "text/plain": [
       "1600"
      ]
     },
     "execution_count": 47,
     "metadata": {},
     "output_type": "execute_result"
    }
   ],
   "source": [
    "len(encoded)"
   ]
  },
  {
   "cell_type": "code",
   "execution_count": 49,
   "id": "c95aaef3",
   "metadata": {
    "pycharm": {
     "name": "#%%\n"
    }
   },
   "outputs": [
    {
     "data": {
      "text/plain": [
       "[1181, 3792, 6920, 4574, 205, 104, 217, 111, 4, 269]"
      ]
     },
     "execution_count": 49,
     "metadata": {},
     "output_type": "execute_result"
    }
   ],
   "source": [
    "encoded[0][:10]"
   ]
  },
  {
   "cell_type": "markdown",
   "id": "27204e92",
   "metadata": {
    "pycharm": {
     "name": "#%% md\n"
    }
   },
   "source": [
    "Now we can apply text padding"
   ]
  },
  {
   "cell_type": "code",
   "execution_count": 50,
   "id": "457035e3",
   "metadata": {
    "pycharm": {
     "name": "#%%\n"
    }
   },
   "outputs": [],
   "source": [
    "padded = pad_sequences(encoded, maxlen=max_len, padding='post')"
   ]
  },
  {
   "cell_type": "code",
   "execution_count": 51,
   "id": "8cee563d",
   "metadata": {
    "pycharm": {
     "name": "#%%\n"
    }
   },
   "outputs": [
    {
     "data": {
      "text/plain": [
       "(1600, 1693)"
      ]
     },
     "execution_count": 51,
     "metadata": {},
     "output_type": "execute_result"
    }
   ],
   "source": [
    "padded.shape"
   ]
  },
  {
   "cell_type": "code",
   "execution_count": 52,
   "id": "65a5a864",
   "metadata": {
    "pycharm": {
     "name": "#%%\n"
    }
   },
   "outputs": [
    {
     "data": {
      "text/plain": [
       "array([1181, 3792, 6920, ...,    0,    0,    0])"
      ]
     },
     "execution_count": 52,
     "metadata": {},
     "output_type": "execute_result"
    }
   ],
   "source": [
    "padded[0]"
   ]
  },
  {
   "cell_type": "code",
   "execution_count": 59,
   "id": "677d46c8",
   "metadata": {
    "pycharm": {
     "name": "#%%\n"
    }
   },
   "outputs": [],
   "source": [
    "encoded_test = tokenizer.texts_to_sequences(X_test)\n",
    "padded_test = pad_sequences(encoded_test, maxlen=max_len, padding='post')"
   ]
  },
  {
   "cell_type": "markdown",
   "id": "e19786a9",
   "metadata": {
    "pycharm": {
     "name": "#%% md\n"
    }
   },
   "source": [
    "### Modeling"
   ]
  },
  {
   "cell_type": "code",
   "execution_count": 122,
   "id": "efad783d",
   "metadata": {
    "pycharm": {
     "name": "#%%\n"
    }
   },
   "outputs": [],
   "source": [
    "input1 = Input(shape=(max_len,))\n",
    "embedding1 = Embedding(vocab_len, 100)(input1)\n",
    "\n",
    "conv1 = Conv1D(filters=32, kernel_size=4, activation='relu')(embedding1)\n",
    "drop1 = Dropout(0.4)(conv1)\n",
    "pool1 = MaxPool1D(pool_size=2)(drop1)\n",
    "\n",
    "conv2 = Conv1D(filters=64, kernel_size=4, activation='relu')(pool1)\n",
    "drop2 = Dropout(0.4)(conv2)\n",
    "pool2 = MaxPool1D(pool_size=2)(drop2)\n",
    "\n",
    "flat1 = Flatten()(pool2)\n",
    "dense1 = Dense(10, activation='relu')(flat1)\n",
    "output = Dense(1, activation='sigmoid')(dense1)"
   ]
  },
  {
   "cell_type": "code",
   "execution_count": 123,
   "id": "4f6669fa",
   "metadata": {
    "pycharm": {
     "name": "#%%\n"
    }
   },
   "outputs": [],
   "source": [
    "model = Model(inputs=[input1], outputs=output)"
   ]
  },
  {
   "cell_type": "code",
   "execution_count": 124,
   "id": "615525e3",
   "metadata": {
    "pycharm": {
     "name": "#%%\n"
    }
   },
   "outputs": [],
   "source": [
    "model.compile(loss='binary_crossentropy', optimizer='adam', metrics=['accuracy'])"
   ]
  },
  {
   "cell_type": "code",
   "execution_count": 125,
   "id": "f677c470",
   "metadata": {
    "pycharm": {
     "name": "#%%\n"
    }
   },
   "outputs": [
    {
     "name": "stdout",
     "output_type": "stream",
     "text": [
      "Model: \"model_12\"\n",
      "_________________________________________________________________\n",
      " Layer (type)                Output Shape              Param #   \n",
      "=================================================================\n",
      " input_17 (InputLayer)       [(None, 1693)]            0         \n",
      "                                                                 \n",
      " embedding_16 (Embedding)    (None, 1693, 100)         4070600   \n",
      "                                                                 \n",
      " conv1d_30 (Conv1D)          (None, 1690, 32)          12832     \n",
      "                                                                 \n",
      " dropout_31 (Dropout)        (None, 1690, 32)          0         \n",
      "                                                                 \n",
      " max_pooling1d_29 (MaxPoolin  (None, 845, 32)          0         \n",
      " g1D)                                                            \n",
      "                                                                 \n",
      " conv1d_31 (Conv1D)          (None, 842, 64)           8256      \n",
      "                                                                 \n",
      " dropout_32 (Dropout)        (None, 842, 64)           0         \n",
      "                                                                 \n",
      " max_pooling1d_30 (MaxPoolin  (None, 421, 64)          0         \n",
      " g1D)                                                            \n",
      "                                                                 \n",
      " flatten_15 (Flatten)        (None, 26944)             0         \n",
      "                                                                 \n",
      " dense_27 (Dense)            (None, 10)                269450    \n",
      "                                                                 \n",
      " dense_28 (Dense)            (None, 1)                 11        \n",
      "                                                                 \n",
      "=================================================================\n",
      "Total params: 4,361,149\n",
      "Trainable params: 4,361,149\n",
      "Non-trainable params: 0\n",
      "_________________________________________________________________\n"
     ]
    }
   ],
   "source": [
    "model.summary()"
   ]
  },
  {
   "cell_type": "code",
   "execution_count": 126,
   "id": "aa8211f2",
   "metadata": {
    "pycharm": {
     "name": "#%%\n"
    }
   },
   "outputs": [
    {
     "data": {
      "image/png": "[encoded data removed]",
      "text/plain": [
       "<IPython.core.display.Image object>"
      ]
     },
     "execution_count": 126,
     "metadata": {},
     "output_type": "execute_result"
    }
   ],
   "source": [
    "plot_model(model, show_shapes=True, show_layer_names=False)"
   ]
  },
  {
   "cell_type": "code",
   "execution_count": 127,
   "id": "2fdc112d",
   "metadata": {
    "pycharm": {
     "name": "#%%\n"
    }
   },
   "outputs": [
    {
     "name": "stdout",
     "output_type": "stream",
     "text": [
      "Epoch 1/7\n",
      "80/80 [==============================] - 14s 172ms/step - loss: 0.6915 - accuracy: 0.5188 - val_loss: 0.6863 - val_accuracy: 0.5500\n",
      "Epoch 2/7\n",
      "80/80 [==============================] - 14s 171ms/step - loss: 0.6370 - accuracy: 0.6081 - val_loss: 0.6267 - val_accuracy: 0.7025\n",
      "Epoch 3/7\n",
      "80/80 [==============================] - 14s 175ms/step - loss: 0.4649 - accuracy: 0.8487 - val_loss: 0.5599 - val_accuracy: 0.7875\n",
      "Epoch 4/7\n",
      "80/80 [==============================] - 13s 161ms/step - loss: 0.1972 - accuracy: 0.9344 - val_loss: 0.4315 - val_accuracy: 0.8275\n",
      "Epoch 5/7\n",
      "80/80 [==============================] - 13s 163ms/step - loss: 0.0307 - accuracy: 0.9925 - val_loss: 0.4866 - val_accuracy: 0.8325\n",
      "Epoch 6/7\n",
      "80/80 [==============================] - 13s 158ms/step - loss: 0.0015 - accuracy: 1.0000 - val_loss: 0.5014 - val_accuracy: 0.8350\n",
      "Epoch 7/7\n",
      "80/80 [==============================] - 14s 177ms/step - loss: 6.1912e-04 - accuracy: 1.0000 - val_loss: 0.5130 - val_accuracy: 0.8425\n"
     ]
    }
   ],
   "source": [
    "history = model.fit([padded], np.array(y_train), epochs=7, batch_size=20,\n",
    "                    validation_data=([padded_test], np.array(y_test)))"
   ]
  },
  {
   "cell_type": "code",
   "execution_count": null,
   "id": "3ceed1b8",
   "metadata": {
    "pycharm": {
     "name": "#%%\n"
    }
   },
   "outputs": [],
   "source": []
  }
 ],
 "metadata": {
  "kernelspec": {
   "display_name": "Python 3 (ipykernel)",
   "language": "python",
   "name": "python3"
  },
  "language_info": {
   "codemirror_mode": {
    "name": "ipython",
    "version": 3
   },
   "file_extension": ".py",
   "mimetype": "text/x-python",
   "name": "python",
   "nbconvert_exporter": "python",
   "pygments_lexer": "ipython3",
   "version": "3.9.12"
  }
 },
 "nbformat": 4,
 "nbformat_minor": 5
}